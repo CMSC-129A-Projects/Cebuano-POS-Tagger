{
 "cells": [
  {
   "cell_type": "markdown",
   "metadata": {},
   "source": [
    "# Cebuano Stemmer Demo\n",
    "\n",
    "`Accepts a Cebuano word and returns the root word and its affixes`"
   ]
  },
  {
   "cell_type": "code",
   "execution_count": 1,
   "metadata": {},
   "outputs": [
    {
     "name": "stdout",
     "output_type": "stream",
     "text": [
      "Input a Cebuano word: niadtong\n",
      "niadtong:[(adto), {ni,-,ng}]\n"
     ]
    }
   ],
   "source": [
    "from stemmer import stem_word\n",
    "\n",
    "ceb_word = raw_input('Input a Cebuano word: ')\n",
    "word = stem_word(word=ceb_word)\n",
    "\n",
    "print(word.print_stem_results())"
   ]
  },
  {
   "cell_type": "markdown",
   "metadata": {},
   "source": [
    "# Cebuano POS Tagger Demo\n",
    "\n",
    "`Accepts a Cebuano sentence and return POS tagged sentence`"
   ]
  },
  {
   "cell_type": "code",
   "execution_count": 2,
   "metadata": {},
   "outputs": [
    {
     "name": "stdout",
     "output_type": "stream",
     "text": [
      "Input a Cebuano sentence: Kini base usab sa natala nga mga bus trips nga niabot og 592 niadtong Biyernes, 579 niadtong Sabado, 655 niadtong Domingo ug 556 niadtong Lunes, adlaw sa Pasko.\n",
      "kini/['PRON'] base/['NOUN'] usab/['VERB'] sa/['PART'] natala/['VERB', 'NOUN'] nga/['PART'] mga/['PART'] bus/['NOUN'] trips/['OTH'] nga/['PART'] niabot/['VERB', 'NOUN'] og/['CONJ', 'DET'] 592/['NUM'] niadtong/['PRON', 'VERB'] biyernes/['NOUN'] ,/['SYM'] 579/['NUM'] niadtong/['PRON', 'VERB'] sabado/['NOUN'] ,/['SYM'] 655/['NUM'] niadtong/['PRON', 'VERB'] domingo/['NOUN'] ug/['CONJ', 'DET'] 556/['NUM'] niadtong/['PRON', 'VERB'] lunes/['NOUN'] ,/['SYM'] adlaw/['NOUN'] sa/['PART'] pasko/['NOUN'] ./['SYM'] \n"
     ]
    }
   ],
   "source": [
    "from tagger import tag_sentence\n",
    "\n",
    "ceb_sentence = raw_input('Input a Cebuano sentence: ')\n",
    "words = tag_sentence(text=ceb_sentence)\n",
    "\n",
    "sentence = ''\n",
    "for word in words:\n",
    "    sentence += str(word) + ' '\n",
    "\n",
    "print(sentence)"
   ]
  },
  {
   "cell_type": "markdown",
   "metadata": {},
   "source": [
    "# Stemmer Evaluation\n",
    "\n",
    "\n",
    "`Evaluates the stemmer by getting the number of predicted root words vs. actual root words`\n",
    "\n",
    "* The input words are already tokenized and stemmed"
   ]
  },
  {
   "cell_type": "code",
   "execution_count": 1,
   "metadata": {},
   "outputs": [
    {
     "name": "stdout",
     "output_type": "stream",
     "text": [
      "Total tokens: 1298\n",
      "Correct root words: 955\n",
      "Incorrect root words: 343\n",
      "Correct / incorrect root percentage: 73.57473035439138\n",
      "\n",
      "\n",
      "Dictionary entry tokens: 974\n",
      "Correct dictionary entry tokens: 878\n",
      "Incorrect dictionary entry tokens: 96\n",
      "\n",
      "\n",
      "Non-dictionary entry tokens: 324\n",
      "Correct non-dictionary entry tokens: 77\n",
      "Incorrect non-dictionary entry tokens: 247\n",
      "\n",
      "\n"
     ]
    },
    {
     "data": {
      "text/html": [
       "<div>\n",
       "<style scoped>\n",
       "    .dataframe tbody tr th:only-of-type {\n",
       "        vertical-align: middle;\n",
       "    }\n",
       "\n",
       "    .dataframe tbody tr th {\n",
       "        vertical-align: top;\n",
       "    }\n",
       "\n",
       "    .dataframe thead th {\n",
       "        text-align: right;\n",
       "    }\n",
       "</style>\n",
       "<table border=\"1\" class=\"dataframe\">\n",
       "  <thead>\n",
       "    <tr style=\"text-align: right;\">\n",
       "      <th></th>\n",
       "      <th>infix</th>\n",
       "      <th>is_entry</th>\n",
       "      <th>is_root</th>\n",
       "      <th>is_valid</th>\n",
       "      <th>prefix</th>\n",
       "      <th>root</th>\n",
       "      <th>suffix</th>\n",
       "    </tr>\n",
       "  </thead>\n",
       "  <tbody>\n",
       "    <tr>\n",
       "      <th>nipahibawo</th>\n",
       "      <td>NaN</td>\n",
       "      <td>False</td>\n",
       "      <td>False</td>\n",
       "      <td>False</td>\n",
       "      <td>ni</td>\n",
       "      <td>pahibaw</td>\n",
       "      <td>o</td>\n",
       "    </tr>\n",
       "    <tr>\n",
       "      <th>naghuwat</th>\n",
       "      <td>NaN</td>\n",
       "      <td>True</td>\n",
       "      <td>False</td>\n",
       "      <td>True</td>\n",
       "      <td>nag</td>\n",
       "      <td>huwat</td>\n",
       "      <td>NaN</td>\n",
       "    </tr>\n",
       "    <tr>\n",
       "      <th>unsaon</th>\n",
       "      <td>NaN</td>\n",
       "      <td>True</td>\n",
       "      <td>False</td>\n",
       "      <td>True</td>\n",
       "      <td>NaN</td>\n",
       "      <td>unsa</td>\n",
       "      <td>on</td>\n",
       "    </tr>\n",
       "    <tr>\n",
       "      <th>mamahimong</th>\n",
       "      <td>NaN</td>\n",
       "      <td>True</td>\n",
       "      <td>False</td>\n",
       "      <td>True</td>\n",
       "      <td>ma</td>\n",
       "      <td>himo</td>\n",
       "      <td>ng</td>\n",
       "    </tr>\n",
       "    <tr>\n",
       "      <th>syudad</th>\n",
       "      <td>NaN</td>\n",
       "      <td>True</td>\n",
       "      <td>True</td>\n",
       "      <td>True</td>\n",
       "      <td>NaN</td>\n",
       "      <td>syudad</td>\n",
       "      <td>NaN</td>\n",
       "    </tr>\n",
       "    <tr>\n",
       "      <th>sirhan</th>\n",
       "      <td>NaN</td>\n",
       "      <td>True</td>\n",
       "      <td>False</td>\n",
       "      <td>False</td>\n",
       "      <td>NaN</td>\n",
       "      <td>sir</td>\n",
       "      <td>han</td>\n",
       "    </tr>\n",
       "    <tr>\n",
       "      <th>kalapasan</th>\n",
       "      <td>NaN</td>\n",
       "      <td>True</td>\n",
       "      <td>False</td>\n",
       "      <td>True</td>\n",
       "      <td>ka</td>\n",
       "      <td>lapas</td>\n",
       "      <td>an</td>\n",
       "    </tr>\n",
       "    <tr>\n",
       "      <th>bawian</th>\n",
       "      <td>NaN</td>\n",
       "      <td>False</td>\n",
       "      <td>False</td>\n",
       "      <td>False</td>\n",
       "      <td>ba</td>\n",
       "      <td>wi</td>\n",
       "      <td>an</td>\n",
       "    </tr>\n",
       "    <tr>\n",
       "      <th>nakalapas</th>\n",
       "      <td>NaN</td>\n",
       "      <td>True</td>\n",
       "      <td>False</td>\n",
       "      <td>True</td>\n",
       "      <td>naka</td>\n",
       "      <td>lapas</td>\n",
       "      <td>NaN</td>\n",
       "    </tr>\n",
       "    <tr>\n",
       "      <th>nagkadaiyang</th>\n",
       "      <td>NaN</td>\n",
       "      <td>True</td>\n",
       "      <td>False</td>\n",
       "      <td>False</td>\n",
       "      <td>nag</td>\n",
       "      <td>kadaiya</td>\n",
       "      <td>ng</td>\n",
       "    </tr>\n",
       "  </tbody>\n",
       "</table>\n",
       "</div>"
      ],
      "text/plain": [
       "             infix  is_entry  is_root  is_valid prefix     root suffix\n",
       "nipahibawo     NaN     False    False     False     ni  pahibaw      o\n",
       "naghuwat       NaN      True    False      True    nag    huwat    NaN\n",
       "unsaon         NaN      True    False      True    NaN     unsa     on\n",
       "mamahimong     NaN      True    False      True     ma     himo     ng\n",
       "syudad         NaN      True     True      True    NaN   syudad    NaN\n",
       "sirhan         NaN      True    False     False    NaN      sir    han\n",
       "kalapasan      NaN      True    False      True     ka    lapas     an\n",
       "bawian         NaN     False    False     False     ba       wi     an\n",
       "nakalapas      NaN      True    False      True   naka    lapas    NaN\n",
       "nagkadaiyang   NaN      True    False     False    nag  kadaiya     ng"
      ]
     },
     "execution_count": 1,
     "metadata": {},
     "output_type": "execute_result"
    }
   ],
   "source": [
    "import stemmer_evaluator as se\n",
    "import pandas as pd\n",
    "\n",
    "result = se.to_panda_data()\n",
    "\n",
    "df = pd.DataFrame(result['data'], index=result['index'])\n",
    "df_valid = df[(df.is_valid == True)]\n",
    "valid = df_valid.count()['is_valid']\n",
    "print('Total tokens: ' + str(df.count()['is_valid']))\n",
    "print('Correct root words: ' + str(df[(df.is_valid == True)].count()['is_valid']))\n",
    "print('Incorrect root words: ' + str(df[(df.is_valid == False)].count()['is_valid']))\n",
    "print(\"Correct / incorrect root percentage: \" + str((valid / float(df.count()['is_valid'])) * 100))\n",
    "print('\\n')\n",
    "print('Dictionary entry tokens: ' + str(df[(df.is_entry == True)].count()['is_entry']))\n",
    "print('Correct dictionary entry tokens: ' + str(df[(df.is_entry == True) & (df.is_valid == True)].count()['is_entry']))\n",
    "print('Incorrect dictionary entry tokens: ' + str(df[(df.is_entry == True) & (df.is_valid == False)].count()['is_entry']))\n",
    "print('\\n')\n",
    "print('Non-dictionary entry tokens: ' + str(df[(df.is_entry == False)].count()['is_entry']))\n",
    "print('Correct non-dictionary entry tokens: ' + str(df[(df.is_entry == False) & (df.is_valid == True)].count()['is_entry']))\n",
    "print('Incorrect non-dictionary entry tokens: ' + str(df[(df.is_entry == False) & (df.is_valid == False)].count()['is_entry']))\n",
    "print('\\n')\n",
    "\n",
    "df.tail(n=10)\n"
   ]
  },
  {
   "cell_type": "markdown",
   "metadata": {},
   "source": [
    "# Tagger Evaluation\n",
    "\n",
    "\n",
    "`Evaluates the tagger by getting the number of predicted pos tags vs. actual pos tags (F-score)`"
   ]
  },
  {
   "cell_type": "code",
   "execution_count": 5,
   "metadata": {},
   "outputs": [
    {
     "name": "stdout",
     "output_type": "stream",
     "text": [
      "Number of tokens: 1220\n",
      "\n",
      "Disambiguated: 81.8852459016% (999) \n",
      "\n"
     ]
    },
    {
     "data": {
      "text/plain": [
       "Predicted  ADJ  ADV  CONJ  DET  NOUN  NUM  OTH  PART  PRON  SYM  VERB  __all__\n",
       "Actual                                                                        \n",
       "ADJ         18   10     0    0     5    0    3     1     9    0     7       53\n",
       "ADV          0   90     0    0     1    0    1     0     0    0     0       92\n",
       "CONJ         0    0    52    0     0    0    0     0     0    0     0       52\n",
       "DET          0    0    11   70     0    0    2     0     0    0     0       83\n",
       "NOUN        12    0     1    1   226    0   50     1     0    0    23      314\n",
       "NUM          0    8     0    0     1   28    1     0     0    0     0       38\n",
       "OTH          0    0     0    0     0    0    3     0     0    0     0        3\n",
       "PART         0    1     2    1     0    0    1   276    17    0     5      303\n",
       "PRON         0    1     0    0     0    0    1     0    50    0     0       52\n",
       "SYM          0    0     0    0     0    0    0     0     0   87     0       87\n",
       "VERB         5    5     0    0     3    0   26     0     6    0    98      143\n",
       "__all__     35  115    66   72   236   28   88   278    82   87   133     1220"
      ]
     },
     "execution_count": 5,
     "metadata": {},
     "output_type": "execute_result"
    }
   ],
   "source": [
    "from pandas_ml import ConfusionMatrix\n",
    "from sklearn.metrics import f1_score\n",
    "import tagger_evaluator as te\n",
    "\n",
    "words = te.tag_test_sentences()\n",
    "y_true = te.extract_actual_pos_tags()\n",
    "y_pred = te.extract_predicted_pos_tags(words=words)\n",
    "confusion_matrix = ConfusionMatrix(y_true, y_pred)\n",
    "confusion_matrix"
   ]
  },
  {
   "cell_type": "code",
   "execution_count": 4,
   "metadata": {},
   "outputs": [
    {
     "data": {
      "text/plain": [
       "array([0.40909091, 0.86956522, 0.88135593, 0.90322581, 0.82181818,\n",
       "       0.84848485, 0.06593407, 0.95008606, 0.74626866, 1.        ,\n",
       "       0.71014493])"
      ]
     },
     "execution_count": 4,
     "metadata": {},
     "output_type": "execute_result"
    }
   ],
   "source": [
    "f1_score(y_true, y_pred, average=None)\n"
   ]
  },
  {
   "cell_type": "code",
   "execution_count": null,
   "metadata": {},
   "outputs": [],
   "source": []
  }
 ],
 "metadata": {
  "kernelspec": {
   "display_name": "Python 2",
   "language": "python",
   "name": "python2"
  },
  "language_info": {
   "codemirror_mode": {
    "name": "ipython",
    "version": 2
   },
   "file_extension": ".py",
   "mimetype": "text/x-python",
   "name": "python",
   "nbconvert_exporter": "python",
   "pygments_lexer": "ipython2",
   "version": "2.7.12"
  }
 },
 "nbformat": 4,
 "nbformat_minor": 2
}
